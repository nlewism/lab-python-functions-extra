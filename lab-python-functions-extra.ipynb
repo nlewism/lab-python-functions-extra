{
 "cells": [
  {
   "cell_type": "markdown",
   "id": "25d7736c-ba17-4aff-b6bb-66eba20fbf4e",
   "metadata": {},
   "source": [
    "# Lab | Functions"
   ]
  },
  {
   "cell_type": "markdown",
   "id": "6f8e446f-16b4-4e21-92e7-9d3d1eb551b6",
   "metadata": {},
   "source": [
    "Objective: Practice how to define and call functions, pass arguments, return values, and handle scope. "
   ]
  },
  {
   "cell_type": "markdown",
   "id": "e253e768-aed8-4791-a800-87add1204afa",
   "metadata": {},
   "source": [
    "## Challenge 1: completing functions based on docstring\n",
    "\n",
    "Complete the functions below according to the docstring, and test them by calling them to make sure they are well implemented."
   ]
  },
  {
   "cell_type": "code",
   "execution_count": 9,
   "id": "df908bed-acc6-4b67-b33a-f3b1c564a49f",
   "metadata": {},
   "outputs": [],
   "source": [
    "def get_unique_list(list):\n",
    "    \"\"\"\n",
    "    Takes a list as an argument and returns a new list with unique elements from the first list.\n",
    "\n",
    "    Parameters:\n",
    "    lst (list): The input list.\n",
    "\n",
    "    Returns:\n",
    "    list: A new list with unique elements from the input list.\n",
    "    \"\"\"\n",
    "    \n",
    "    user_input = input(\"Enter a list of numbers, repeat as you wish:\")\n",
    "    number_list = []\n",
    "\n",
    "    for character in user_input:\n",
    "        if character.isdigit():\n",
    "            number_list.append(int(character))\n",
    "\n",
    "    return list(set(number_list))"
   ]
  },
  {
   "cell_type": "code",
   "execution_count": 10,
   "id": "e081ae10",
   "metadata": {},
   "outputs": [
    {
     "name": "stdout",
     "output_type": "stream",
     "text": [
      "Enter a list of numbers, repeat as you wish:1,2,3,3,3,3,4,5,6,7,7,7\n"
     ]
    },
    {
     "data": {
      "text/plain": [
       "[1, 2, 3, 4, 5, 6, 7]"
      ]
     },
     "execution_count": 10,
     "metadata": {},
     "output_type": "execute_result"
    }
   ],
   "source": [
    "get_unique_list(list)"
   ]
  },
  {
   "cell_type": "markdown",
   "id": "214c2c27-c4fa-46cf-bfbf-26fb25b25882",
   "metadata": {},
   "source": [
    "Example:\n",
    "\n",
    "*Input [1,2,3,3,3,3,4,5] -> type: list*\n",
    "\n",
    "*Expected Output [1,2,3,4,5] -> type: list*"
   ]
  },
  {
   "cell_type": "code",
   "execution_count": 29,
   "id": "7d5c8e34-a116-4428-ab9d-e0e15e338fff",
   "metadata": {},
   "outputs": [],
   "source": [
    "def count_case(string):\n",
    "    \"\"\"\n",
    "    Returns the number of uppercase and lowercase letters in the given string.\n",
    "\n",
    "    Parameters:\n",
    "    string (str): The string to count uppercase and lowercase letters in.\n",
    "\n",
    "    Returns:\n",
    "    A tuple containing the count of uppercase and lowercase letters in the string.\n",
    "    \"\"\"\n",
    "    # my code\n",
    "    string = input(\"Enter your favorite quote or poem:\")\n",
    "\n",
    "    count_lower = 0\n",
    "    count_upper = 0\n",
    "\n",
    "    for char in string:\n",
    "        if char.islower():\n",
    "            count_lower += 1\n",
    "        elif char.isupper():\n",
    "            count_upper += 1\n",
    "\n",
    "    return tuple((count_lower, count_upper))"
   ]
  },
  {
   "cell_type": "code",
   "execution_count": 30,
   "id": "2c1984e5",
   "metadata": {},
   "outputs": [
    {
     "name": "stdout",
     "output_type": "stream",
     "text": [
      "Enter your favorite quote or poem:Be Brave\n"
     ]
    },
    {
     "data": {
      "text/plain": [
       "(5, 2)"
      ]
     },
     "execution_count": 30,
     "metadata": {},
     "output_type": "execute_result"
    }
   ],
   "source": [
    "count_case(string)"
   ]
  },
  {
   "cell_type": "markdown",
   "id": "2c902b2e-369c-4a40-a166-ca5bc554cab3",
   "metadata": {},
   "source": [
    "Example:\n",
    "\n",
    "*Input: \"Hello World\"* \n",
    "\n",
    "*Expected Output: Uppercase count: 2, Lowercase count: 8* "
   ]
  },
  {
   "cell_type": "code",
   "execution_count": 21,
   "id": "c15b91d4-cfd6-423b-9f36-76012b8792b8",
   "metadata": {},
   "outputs": [],
   "source": [
    "import string\n",
    "\n",
    "def remove_punctuation(sentence):\n",
    "    \"\"\"\n",
    "    Removes all punctuation marks (commas, periods, exclamation marks, question marks) from a sentence.\n",
    "\n",
    "    Parameters:\n",
    "    sentence (str): A string representing a sentence.\n",
    "\n",
    "    Returns:\n",
    "    str: The sentence without any punctuation marks.\n",
    "    \"\"\"\n",
    "    # your code goes here\n",
    "    \n",
    "    sentence = sentence.replace(\",\",\"\").replace(\".\",\"\").replace(\"!\",\"\").replace(\"?\",\"\").replace(\":\",\"\")\n",
    "    \n",
    "    return sentence\n",
    "\n",
    "def word_count(sentence):\n",
    "    \"\"\"\n",
    "    Counts the number of words in a given sentence. To do this properly, first it removes punctuation from the sentence.\n",
    "    Note: A word is defined as a sequence of characters separated by spaces. We can assume that there will be no leading or trailing spaces in the input sentence.\n",
    "    \n",
    "    Parameters:\n",
    "    sentence (str): A string representing a sentence.\n",
    "\n",
    "    Returns:\n",
    "    int: The number of words in the sentence.\n",
    "    \"\"\"\n",
    "    sentence = sentence.replace(\",\",\"\").replace(\".\",\"\").replace(\"!\",\"\").replace(\"?\",\"\").replace(\":\",\"\")\n",
    "    words = sentence.split()\n",
    "    count = len(words)\n",
    "    return sentence, count\n",
    "    "
   ]
  },
  {
   "cell_type": "code",
   "execution_count": 22,
   "id": "f4fa4d8f",
   "metadata": {},
   "outputs": [
    {
     "name": "stdout",
     "output_type": "stream",
     "text": [
      "Enter greeting:Hi! How are you? Nice to meet you.\n"
     ]
    }
   ],
   "source": [
    "sentence = input(\"Enter greeting:\")"
   ]
  },
  {
   "cell_type": "code",
   "execution_count": 23,
   "id": "ebeaf801",
   "metadata": {},
   "outputs": [
    {
     "data": {
      "text/plain": [
       "('Hi How are you Nice to meet you', 8)"
      ]
     },
     "execution_count": 23,
     "metadata": {},
     "output_type": "execute_result"
    }
   ],
   "source": [
    "word_count(sentence)"
   ]
  },
  {
   "cell_type": "markdown",
   "id": "52814e4d-7631-4c80-80b6-2b206f7e7419",
   "metadata": {},
   "source": [
    "*For example, calling*\n",
    "```python \n",
    "word_count(\"Note : this is an example !!! Good day : )\")\n",
    "``` \n",
    "\n",
    "*would give you as expected output: 7*"
   ]
  },
  {
   "cell_type": "markdown",
   "id": "983d42f1",
   "metadata": {},
   "source": [
    "# Challenge 2: Build a Calculator\n",
    "In this exercise, you will build a calculator using Python functions. The calculator will be able to perform basic arithmetic operations like addition, subtraction, multiplication, and division.\n",
    "\n",
    "Instructions\n",
    "\n",
    "- Define four functions for addition, subtraction, multiplication, and division.\n",
    "- Each function should take two arguments, perform the respective arithmetic operation, and return the result.\n",
    "- Define another function called \"calculate\" that takes three arguments: two operands and an operator.\n",
    "- The \"calculate\" function should use a conditional statement to determine which arithmetic function to call based on the operator argument.\n",
    "- The \"calculate\" function should then call the appropriate arithmetic function and return the result.\n",
    "- Test your \"calculate\" function by calling it with different input parameters."
   ]
  },
  {
   "cell_type": "code",
   "execution_count": 2,
   "id": "3fe61092",
   "metadata": {},
   "outputs": [],
   "source": [
    "#Define 4 functions\n",
    "\n",
    "def addition(x,y):\n",
    "    result = x + y\n",
    "    return result\n",
    "\n",
    "def subtraction(x,y):\n",
    "    result = x - y\n",
    "    return result\n",
    "    \n",
    "def multiplication(x,y):\n",
    "    result = x * y\n",
    "    return result\n",
    "    \n",
    "def division(x,y):\n",
    "    result = x / y\n",
    "    return result\n",
    "    \n",
    "# Creating the calculate function\n",
    "    \n",
    "def calculate(operand1,operator,operand2):\n",
    "    \n",
    "    if operator == '+':\n",
    "        result = addition(operand1, operand2)\n",
    "    elif operator == '-':\n",
    "        result = substaction(operand1, operand2)\n",
    "    elif operator == '*':\n",
    "        result = multiplication(operand1, operand2)\n",
    "    elif operator == '/':\n",
    "        result = division(operand1, operand2)\n",
    "    else:\n",
    "        print(\"Error: Invalid Operator\")\n",
    "        result = None\n",
    "    return result"
   ]
  },
  {
   "cell_type": "code",
   "execution_count": 4,
   "id": "9ed156b8",
   "metadata": {},
   "outputs": [
    {
     "name": "stdout",
     "output_type": "stream",
     "text": [
      "result: 16\n"
     ]
    }
   ],
   "source": [
    "calculator = calculate(2, '*', 8)\n",
    "print('result:', calculator)"
   ]
  },
  {
   "cell_type": "markdown",
   "id": "d1784c63-208c-4553-9686-acac6c0a9dda",
   "metadata": {},
   "source": [
    "### Bonus: args and kwargs\n",
    "\n",
    "Update the previous exercise so it allows for adding, subtracting, and multiplying more than 2 numbers.\n",
    "\n",
    "The calculator will be able to perform basic arithmetic operations like addition, subtraction, multiplication, and division on multiple numbers.\n",
    "\n",
    "*Hint: use args or kwargs. Recommended external resource: [Args and Kwargs in Python](https://www.geeksforgeeks.org/args-kwargs-python/)*"
   ]
  },
  {
   "cell_type": "code",
   "execution_count": 11,
   "id": "ff3e816c-13ab-447d-a6f2-bb47a8fad2e2",
   "metadata": {},
   "outputs": [],
   "source": [
    "def calculate(operator,*operands):\n",
    "    \n",
    "    result = operands[0]\n",
    "    \n",
    "    for operand in operands[1:]:\n",
    "    \n",
    "        if operator == '+':\n",
    "            result += operand\n",
    "        elif operator == '-':\n",
    "            result -= operand\n",
    "        elif operator == '*':\n",
    "            result *= operand\n",
    "        elif operator == '/':\n",
    "            result /= operand\n",
    "        else:\n",
    "            print(\"Error: Invalid Operator\")\n",
    "            result = None\n",
    "            \n",
    "    return result"
   ]
  },
  {
   "cell_type": "code",
   "execution_count": 12,
   "id": "be2e3f55",
   "metadata": {},
   "outputs": [],
   "source": [
    "result = calculate('*', 2, 3, 4)  # Multiplication: 2 * 3 * 4 = 24"
   ]
  },
  {
   "cell_type": "code",
   "execution_count": 13,
   "id": "a41d7d03",
   "metadata": {},
   "outputs": [
    {
     "name": "stdout",
     "output_type": "stream",
     "text": [
      "Result: 24\n"
     ]
    }
   ],
   "source": [
    "print(\"Result:\", result)"
   ]
  },
  {
   "cell_type": "markdown",
   "id": "af2de734-2a0e-4458-9cb8-57284b7108ae",
   "metadata": {},
   "source": [
    "## Challenge 3: importing functions from a Python file"
   ]
  },
  {
   "cell_type": "markdown",
   "id": "56780ce8-6610-4fb5-a4ef-22cd46af83d2",
   "metadata": {},
   "source": [
    "Moving the functions created in Challenge 1 to a Python file.\n",
    "\n",
    "- In the same directory as your Jupyter Notebook, create a new Python file called `functions.py`.\n",
    "- Copy and paste the functions you created earlier in the Jupyter Notebook into the functions.py file. Rename the functions to `get_unique_list_f, count_case_f, remove_punctuation_f, word_count_f`. Add the _f suffix to each function name to ensure that you're calling the functions from your file.\n",
    "- Save the `functions.py` file and switch back to the Jupyter Notebook.\n",
    "- In a new cell, import the functions from functions.py\n",
    "- Call each function with some sample input to test that they're working properly.\n",
    "\n",
    "There are several ways to import functions from a Python module such as functions.py to a Jupyter Notebook:\n",
    "\n",
    "1. Importing specific functions: If you only need to use a few functions from the module, you can import them individually using the from keyword. This way, you can call the functions directly using their names, without having to use the module name. For example:\n",
    "\n",
    "```python\n",
    "from function_file import function_name\n",
    "\n",
    "function_name(arguments)```\n",
    "\n",
    "2. Importing the entire module: You can import the entire module using the import keyword followed by the name of the module. Then, you can call the functions using the module_name.function_name() syntax. Example:\n",
    "\n",
    "```python\n",
    "import function_file\n",
    "\n",
    "function_file.function_name()\n",
    "```\n",
    "\n",
    "3. Renaming functions during import: You can also rename functions during import using the as keyword. This is useful if you want to use a shorter or more descriptive name for the function in your code. For example:\n",
    "\n",
    "```python\n",
    "from function_file import function_name as f\n",
    "\n",
    "f.function_name(arguments)\n",
    "```\n",
    "\n",
    "Regardless of which method you choose, make sure that the functions.py file is in the same directory as your Jupyter Notebook, or else specify the path to the file in the import statement or by using `sys.path`.\n",
    "\n",
    "You can find examples on how to import Python files into jupyter notebook here: \n",
    "- https://medium.com/cold-brew-code/a-quick-guide-to-understanding-pythons-import-statement-505eea2d601f\n",
    "- https://www.geeksforgeeks.org/absolute-and-relative-imports-in-python/\n",
    "- https://www.pythonforthelab.com/blog/complete-guide-to-imports-in-python-absolute-relative-and-more/\n",
    "\n"
   ]
  },
  {
   "cell_type": "markdown",
   "id": "14f222c5-e7bb-4626-b45c-bd735001f768",
   "metadata": {},
   "source": [
    "To ensure that any changes made to the Python file are reflected in the Jupyter Notebook upon import, we need to use an IPython extension that allows for automatic reloading of modules. Without this extension, changes made to the file won't be reloaded or refreshed in the notebook upon import.\n",
    "\n",
    "For that, we will include the following code:\n",
    "```python\n",
    "%load_ext autoreload\n",
    "%autoreload 2 \n",
    "```\n",
    "\n",
    "You can read more about this here: https://ipython.readthedocs.io/en/stable/config/extensions/autoreload.html"
   ]
  },
  {
   "cell_type": "code",
   "execution_count": 16,
   "id": "5832ecfe-c652-418d-8fbc-bac4b1166b40",
   "metadata": {},
   "outputs": [
    {
     "name": "stdout",
     "output_type": "stream",
     "text": [
      "The autoreload extension is already loaded. To reload it, use:\n",
      "  %reload_ext autoreload\n"
     ]
    }
   ],
   "source": [
    "# IPython extension to reload modules before executing user code.\n",
    "%load_ext autoreload\n",
    "%autoreload 2 \n",
    "\n",
    "#Local application imports\n",
    "import functions\n",
    "from functions import calculate_f"
   ]
  },
  {
   "cell_type": "markdown",
   "id": "06d0eb13-8dcb-4783-8f74-8f71beb2d0b4",
   "metadata": {},
   "source": [
    "## Bonus: recursive functions\n",
    "\n",
    "The Fibonacci sequence is a mathematical sequence that appears in various fields, including nature, finance, and computer science. It starts with 0 and 1, and each subsequent number is the sum of the two preceding numbers. The sequence goes like this: 0, 1, 1, 2, 3, 5, 8, 13, 21, 34, and so on.\n",
    "\n",
    "Write a Python function that uses recursion to compute the Fibonacci sequence up to a given number n.\n",
    "\n",
    "To accomplish this, create a function that calculates the Fibonacci number for a given input. For example, the 10th Fibonacci number is 55.\n",
    "Then create another function that generates a list of Fibonacci numbers from 0 to n.\n",
    "Test your function by calling it with different input parameters."
   ]
  },
  {
   "cell_type": "markdown",
   "id": "b1686493-48bb-47f1-b3c9-75994816b277",
   "metadata": {},
   "source": [
    "Example:\n",
    "\n",
    "*Expected output for n = 14:*\n",
    "\n",
    "*Fibonacci sequence: [1, 1, 2, 3, 5, 8, 13, 21, 34, 55, 89, 144, 233, 377]*"
   ]
  },
  {
   "cell_type": "code",
   "execution_count": 14,
   "id": "a1d55cea-96c3-4853-8220-17c0904a8816",
   "metadata": {},
   "outputs": [],
   "source": [
    "def fibonacci_recursive(n):\n",
    "    \"\"\"\n",
    "    Calculate the nth Fibonacci number using recursion.\n",
    "\n",
    "    Parameters:\n",
    "    n (int): The position in the Fibonacci sequence.\n",
    "\n",
    "    Returns:\n",
    "    int: The nth Fibonacci number.\n",
    "    \"\"\"\n",
    "    if n <= 1:\n",
    "        return n\n",
    "    else:\n",
    "        return fibonacci_recursive(n - 1) + fibonacci_recursive(n - 2)"
   ]
  },
  {
   "cell_type": "code",
   "execution_count": 15,
   "id": "f53792cd",
   "metadata": {},
   "outputs": [],
   "source": [
    "def generate_fibonacci_list(n):\n",
    "    \"\"\"\n",
    "    Generate a list of Fibonacci numbers up to n.\n",
    "\n",
    "    Parameters:\n",
    "    n (int): The upper limit for the Fibonacci sequence.\n",
    "\n",
    "    Returns:\n",
    "    list: A list containing Fibonacci numbers from 0 to n.\n",
    "    \"\"\"\n",
    "    fibonacci_list = []\n",
    "    for i in range(n + 1):\n",
    "        fibonacci_list.append(fibonacci_recursive(i))\n",
    "    return fibonacci_list"
   ]
  },
  {
   "cell_type": "code",
   "execution_count": 22,
   "id": "45d8c460",
   "metadata": {},
   "outputs": [],
   "source": [
    "n = 5\n",
    "fibonacci_sequence = generate_fibonacci_list(n)"
   ]
  },
  {
   "cell_type": "code",
   "execution_count": 23,
   "id": "1179b1c5",
   "metadata": {},
   "outputs": [
    {
     "data": {
      "text/plain": [
       "[0, 1, 1, 2, 3, 5]"
      ]
     },
     "execution_count": 23,
     "metadata": {},
     "output_type": "execute_result"
    }
   ],
   "source": [
    "fibonacci_sequence"
   ]
  },
  {
   "cell_type": "code",
   "execution_count": 19,
   "id": "99074f9f",
   "metadata": {},
   "outputs": [
    {
     "name": "stdout",
     "output_type": "stream",
     "text": [
      "The Fibonacci sequence up to 14 is: [0, 1, 1, 2, 3, 5, 8, 13, 21, 34, 55, 89, 144, 233, 377]\n"
     ]
    }
   ],
   "source": [
    "print(f\"The Fibonacci sequence up to {n} is: {fibonacci_sequence}\")"
   ]
  }
 ],
 "metadata": {
  "kernelspec": {
   "display_name": "Python 3 (ipykernel)",
   "language": "python",
   "name": "python3"
  },
  "language_info": {
   "codemirror_mode": {
    "name": "ipython",
    "version": 3
   },
   "file_extension": ".py",
   "mimetype": "text/x-python",
   "name": "python",
   "nbconvert_exporter": "python",
   "pygments_lexer": "ipython3",
   "version": "3.11.5"
  },
  "toc": {
   "base_numbering": 1,
   "nav_menu": {},
   "number_sections": true,
   "sideBar": true,
   "skip_h1_title": false,
   "title_cell": "Table of Contents",
   "title_sidebar": "Contents",
   "toc_cell": false,
   "toc_position": {},
   "toc_section_display": true,
   "toc_window_display": false
  }
 },
 "nbformat": 4,
 "nbformat_minor": 5
}
